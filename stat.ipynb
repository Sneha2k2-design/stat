{
  "nbformat": 4,
  "nbformat_minor": 0,
  "metadata": {
    "colab": {
      "provenance": []
    },
    "kernelspec": {
      "name": "python3",
      "display_name": "Python 3"
    },
    "language_info": {
      "name": "python"
    }
  },
  "cells": [
    {
      "cell_type": "markdown",
      "source": [],
      "metadata": {
        "id": "CyNzrzrtFBfy"
      }
    },
    {
      "cell_type": "markdown",
      "source": [
        "Define the z-statistic and explain its relationship to the standard normal distribution. How is the\n",
        "z-statistic used in hypothesis testing?"
      ],
      "metadata": {
        "id": "IBq_t865FDUz"
      }
    },
    {
      "cell_type": "code",
      "source": [],
      "metadata": {
        "id": "LyPv9WWlFdbo"
      },
      "execution_count": null,
      "outputs": []
    },
    {
      "cell_type": "markdown",
      "source": [
        "Z-statistic is a measure that tells us how many standard deviations an element is from the mean of the population. It's a way to standardize scores on the same scale, allowing us to compare them directly.\n",
        "\n",
        "Relationship to the Standard Normal Distribution\n",
        "The z-statistic transforms data into the standard normal distribution, which has a mean of 0 and a standard deviation of 1. This means:\n",
        "\n",
        "A z-score of 0 indicates that the data point is exactly at the mean.\n",
        "\n",
        "Positive z-scores indicate data points above the mean.\n",
        "\n",
        "Negative z-scores indicate data points below the mean.\n",
        "\n",
        "Hypothesis Testing\n",
        "In hypothesis testing, the z-statistic is used to determine how far the sample mean is from the population mean, under the null hypothesis. Here’s a simplified process:\n",
        "\n",
        "Formulate Hypotheses: State the null hypothesis (H₀) and the alternative hypothesis (H₁).\n",
        "\n",
        "Calculate the Z-Statistic: Use the formula: \\[ Z = \\frac{(\\bar{X} - \\mu)}{(\\sigma / \\sqrt{n})} \\] where:\n",
        "\n",
        "X\n",
        "ˉ\n",
        " = sample mean\n",
        "\n",
        "μ\n",
        " = population mean under H₀\n",
        "\n",
        "σ\n",
        " = population standard deviation\n",
        "\n",
        "n\n",
        " = sample size\n",
        "\n",
        "Determine the P-Value: Use the z-statistic to find the p-value, which tells us the probability of observing the data if the null hypothesis is true.\n",
        "\n",
        "Decision Rule: Compare the p-value to the significance level (α). If the p-value is less than α, reject the null hypothesis."
      ],
      "metadata": {
        "id": "Owniw1mVFpnq"
      }
    },
    {
      "cell_type": "markdown",
      "source": [
        "Question2 : What is a p-value, and how is it used in hypothesis testing? What does it mean if the p-value is\n",
        "very small (e.g., 0.01)?"
      ],
      "metadata": {
        "id": "EoTCks-ZFwo0"
      }
    },
    {
      "cell_type": "markdown",
      "source": [
        "P-value is a measure in statistics that helps you determine the significance of your results when conducting a hypothesis test.\n",
        "\n",
        "Usage in Hypothesis Testing:\n",
        "Formulate Hypotheses: Define the null hypothesis (H₀) and the alternative hypothesis (H₁).\n",
        "\n",
        "Conduct the Test: Calculate the test statistic using your sample data.\n",
        "\n",
        "Determine the P-Value: The p-value indicates the probability of obtaining a result at least as extreme as the one observed, assuming that the null hypothesis is true.\n",
        "\n",
        "Interpretation:\n",
        "Small P-Value (e.g., 0.01): Indicates strong evidence against the null hypothesis. If the p-value is 0.01, there is only a 1% chance that the observed results are due to random variation, suggesting that you can reject the null hypothesis with a high level of confidence.\n",
        "\n",
        "Large P-Value: Suggests weak evidence against the null hypothesis, meaning you might not reject it."
      ],
      "metadata": {
        "id": "-X40rG9uF8k4"
      }
    },
    {
      "cell_type": "markdown",
      "source": [
        "Question3: Compare and contrast the binomial and Bernoulli distributions."
      ],
      "metadata": {
        "id": "0dOIECPHF_24"
      }
    },
    {
      "cell_type": "markdown",
      "source": [
        "Bernoulli Distribution\n",
        "Definition: A probability distribution of a random variable that takes the value 1 with probability\n",
        "p\n",
        " and the value 0 with probability\n",
        "1\n",
        "−\n",
        "p\n",
        ".\n",
        "\n",
        "Parameters: Single parameter\n",
        "p\n",
        " (probability of success).\n",
        "\n",
        "Example: Flipping a coin once where the outcome can be heads (success) or tails (failure).\n",
        "\n",
        "Binomial Distribution\n",
        "Definition: The probability distribution of the number of successes in a fixed number of independent Bernoulli trials, each with the same probability\n",
        "p\n",
        " of success.\n",
        "\n",
        "Parameters: Two parameters:\n",
        "n\n",
        " (number of trials) and\n",
        "p\n",
        " (probability of success in each trial).\n",
        "\n",
        "Example: Flipping a coin 10 times and counting the number of heads.\n",
        "\n",
        "Key Differences\n",
        "Scope: A Bernoulli distribution describes a single trial, while a binomial distribution sums up the results of\n",
        "n\n",
        " independent trials.\n",
        "\n",
        "Random Variable: In a Bernoulli distribution, the random variable is binary (0 or 1). In a binomial distribution, the random variable is the count of successes over multiple trials (ranging from 0 to\n",
        "n\n",
        ").\n",
        "\n",
        "Relationship\n",
        "A binomial distribution is essentially a series of Bernoulli trials. If you conduct multiple Bernoulli trials and count the number of successes, you end up with a binomial distribution."
      ],
      "metadata": {
        "id": "-XXHGLsxGNkn"
      }
    },
    {
      "cell_type": "markdown",
      "source": [
        "Question 4: Under what conditions is the binomial distribution used, and how does it relate to the Bernoulli\n",
        "distribution?"
      ],
      "metadata": {
        "id": "_936f3yyGXib"
      }
    },
    {
      "cell_type": "markdown",
      "source": [
        "The binomial distribution is used under specific conditions when the following criteria are met:\n",
        "\n",
        "Conditions for Binomial Distribution:\n",
        "Fixed Number of Trials (n): There must be a predetermined number of independent trials or experiments.\n",
        "\n",
        "Binary Outcomes: Each trial should result in exactly one of two possible outcomes: success or failure.\n",
        "\n",
        "Constant Probability (p): The probability of success must remain constant across all trials.\n",
        "\n",
        "Independence: Each trial is independent of others, meaning the outcome of one trial does not affect the outcome of another.\n",
        "\n",
        "Relationship to Bernoulli Distribution:\n",
        "The binomial distribution is essentially a series of Bernoulli trials. Each trial in a binomial experiment follows a Bernoulli distribution, where the result is either a success (1) or a failure (0). The binomial distribution then sums up the number of successes across these trials. In other words, if you perform\n",
        "n\n",
        " Bernoulli trials, each with success probability\n",
        "p\n",
        ", the number of successes follows a binomial distribution with parameters\n",
        "n\n",
        " and\n",
        "p\n",
        ".\n",
        "\n",
        "Example:\n",
        "Bernoulli Trial: Flipping a coin once (success: heads, failure: tails) is a Bernoulli trial with\n",
        "p\n",
        "=\n",
        "0.5\n",
        ".\n",
        "\n",
        "Binomial Experiment: Flipping the coin 10 times and counting the number of heads results in a binomial distribution with\n",
        "n\n",
        "=\n",
        "10\n",
        " and\n",
        "p\n",
        "=\n",
        "0.5\n",
        ".\n"
      ],
      "metadata": {
        "id": "7wbHMQZMGoYx"
      }
    },
    {
      "cell_type": "code",
      "source": [],
      "metadata": {
        "id": "mfdBgax-GYes"
      },
      "execution_count": null,
      "outputs": []
    },
    {
      "cell_type": "markdown",
      "source": [
        "Question5: What are the key properties of the Poisson distribution, and when is it appropriate to use this\n",
        "distribution?"
      ],
      "metadata": {
        "id": "k3zH2yeXG9fD"
      }
    },
    {
      "cell_type": "markdown",
      "source": [],
      "metadata": {
        "id": "DCDK4PdVG3qU"
      }
    },
    {
      "cell_type": "markdown",
      "source": [
        "The Poisson distribution is used to model the number of events occurring within a fixed interval of time or space, under certain conditions. Here's a rundown of its key properties and appropriate use cases:\n",
        "\n",
        "Key Properties:\n",
        "Discrete Distribution: The Poisson distribution describes discrete events (e.g., number of phone calls received in an hour).\n",
        "\n",
        "Parameter (λ): The distribution is defined by a single parameter\n",
        "λ\n",
        ", which represents the average number of events in the given interval.\n",
        "\n",
        "Probability Mass Function: The probability of observing\n",
        "k\n",
        " events in an interval is given by: \\[ P(X = k) = \\frac{\\lambda^k e^{-\\lambda}}{k!} \\] where\n",
        "k\n",
        " is a non-negative integer,\n",
        "e\n",
        " is the base of the natural logarithm, and\n",
        "λ\n",
        " is the average rate.\n",
        "\n",
        "Mean and Variance: Both the mean and variance of a Poisson distribution are equal to\n",
        "λ\n",
        ".\n",
        "\n",
        "Memoryless Property: The probability of an event occurring in a given interval is independent of the events in previous intervals.\n",
        "\n",
        "Appropriate Use Cases:\n",
        "Event Count: Modeling the number of occurrences of an event within a specified time period or spatial area (e.g., number of emails received in an hour).\n",
        "\n",
        "Rare Events: Appropriate for events that are rare or occur infrequently (e.g., number of defects in a batch of products).\n",
        "\n",
        "No Fixed Upper Limit: Suitable when there is no upper limit to the number of events (e.g., number of customers entering a store).\n",
        "\n",
        "Independence: The events must occur independently of one another.\n",
        "\n",
        "Examples:\n",
        "Traffic Flow: Number of cars passing through a toll booth in an hour.\n",
        "\n",
        "Call Center: Number of incoming calls at a customer service center per minute.\n",
        "\n",
        "Healthcare: Number of patients arriving at an emergency room in a day."
      ],
      "metadata": {
        "id": "Xn-vn96RHUFS"
      }
    },
    {
      "cell_type": "code",
      "source": [],
      "metadata": {
        "id": "rkc8zgaRHVZ9"
      },
      "execution_count": null,
      "outputs": []
    },
    {
      "cell_type": "markdown",
      "source": [
        "Probability Distribution is a mathematical function that provides the probabilities of occurrence of different possible outcomes for an experiment. It gives a complete description of the randomness and uncertainty in a system.\n",
        "\n",
        "Probability Density Function (PDF):\n",
        "Definition: A function that describes the relative likelihood for a continuous random variable to take on a particular value.\n",
        "\n",
        "Properties:\n",
        "\n",
        "The area under the PDF curve over the entire range of possible values is 1.\n",
        "\n",
        "It represents probabilities over intervals. For example, the probability that a variable falls within a particular range is the area under the curve in that interval.\n",
        "\n",
        "Example: The normal distribution curve, which describes the distribution of many natural phenomena.\n",
        "\n",
        "Probability Mass Function (PMF):\n",
        "Definition: A function that gives the probability that a discrete random variable is exactly equal to some value.\n",
        "\n",
        "Properties:\n",
        "\n",
        "The sum of all probabilities in the PMF equals 1.\n",
        "\n",
        "It represents probabilities at specific points.\n",
        "\n",
        "Example: Rolling a die, where the PMF gives the probability of each face (1 through 6) showing up.\n",
        "\n",
        "Key Differences:\n",
        "Type of Variable: PDF is used for continuous random variables, while PMF is used for discrete random variables.\n",
        "\n",
        "Representation: PDF is a continuous curve, and the area under the curve represents probabilities. PMF is a series of discrete values, and each value directly represents a probability.\n",
        "\n",
        "Summation vs Integration: For PMF, probabilities are summed up. For PDF, probabilities are integrated over intervals."
      ],
      "metadata": {
        "id": "KvtScvoCHhEN"
      }
    },
    {
      "cell_type": "code",
      "source": [],
      "metadata": {
        "id": "0-j909SdHog4"
      },
      "execution_count": null,
      "outputs": []
    },
    {
      "cell_type": "markdown",
      "source": [
        "Question7: Explain the Central Limit Theorem (CLT) with example.\n",
        "\n",
        "\n",
        "\n"
      ],
      "metadata": {
        "id": "3fROwxg6HwRy"
      }
    },
    {
      "cell_type": "code",
      "source": [],
      "metadata": {
        "id": "9xJLmOfPHw8p"
      },
      "execution_count": null,
      "outputs": []
    },
    {
      "cell_type": "markdown",
      "source": [
        "The Central Limit Theorem (CLT) is a fundamental concept in statistics. It states that, given a sufficiently large sample size, the distribution of the sample mean will approximate a normal distribution, regardless of the original population's distribution. Here’s a breakdown:\n",
        "\n",
        "Key Points:\n",
        "Large Sample Size: The sample size should be large (usually n > 30 is considered sufficient).\n",
        "\n",
        "Independence: Samples should be independent of each other.\n",
        "\n",
        "Identically Distributed: Samples are drawn from the same population with the same distribution.\n",
        "\n",
        "Why It Matters:\n",
        "The CLT allows us to make inferences about population parameters using the normal distribution, which simplifies the analysis.\n",
        "\n",
        "Example:\n",
        "Imagine you have a population of students' test scores that follows a skewed distribution. If you take multiple random samples of 30 students each and calculate their average scores, the distribution of these sample means will tend to be normal, even though the original distribution is skewed.\n",
        "\n",
        "Population Distribution: Skewed distribution of test scores.\n",
        "\n",
        "Random Sampling: Take multiple samples of 30 students each.\n",
        "\n",
        "Sample Means: Calculate the mean score for each sample.\n",
        "\n",
        "Distribution of Sample Means: As you repeat this process, the distribution of these sample means will approximate a normal distribution."
      ],
      "metadata": {
        "id": "8x6aeHrCH5C5"
      }
    },
    {
      "cell_type": "code",
      "source": [],
      "metadata": {
        "id": "Pkugpe3SH5z8"
      },
      "execution_count": null,
      "outputs": []
    },
    {
      "cell_type": "markdown",
      "source": [
        "Question8: Compare z-scores and t-scores. When should you use a z-score, and when should a t-score be a\n",
        "\n",
        "pplied instead?"
      ],
      "metadata": {
        "id": "QWqej6q6H8uD"
      }
    },
    {
      "cell_type": "markdown",
      "source": [
        "Z-Scores\n",
        "Definition: A z-score indicates how many standard deviations a data point is from the mean of a population.\n",
        "\n",
        "Formula: \\[ Z = \\frac{(X - \\mu)}{\\sigma} \\] where\n",
        "X\n",
        " is the sample mean,\n",
        "μ\n",
        " is the population mean, and\n",
        "σ\n",
        " is the population standard deviation.\n",
        "\n",
        "Usage: Appropriate when the population standard deviation is known and the sample size is large (n > 30).\n",
        "\n",
        "T-Scores\n",
        "Definition: A t-score, similar to a z-score, measures the difference between a sample mean and the population mean in units of the sample standard deviation.\n",
        "\n",
        "Formula: \\[ t = \\frac{(X - \\mu)}{(s / \\sqrt{n})} \\] where\n",
        "s\n",
        " is the sample standard deviation and\n",
        "n\n",
        " is the sample size.\n",
        "\n",
        "Usage: Used when the population standard deviation is unknown and the sample size is small (n < 30).\n",
        "\n",
        "Key Differences\n",
        "Known vs Unknown Standard Deviation: Z-scores are used when the population standard deviation is known, while t-scores are used when it is not known.\n",
        "\n",
        "Sample Size: Z-scores are preferred for large sample sizes, whereas t-scores are more appropriate for small sample sizes.\n",
        "\n",
        "Distribution: Z-scores follow the standard normal distribution, whereas t-scores follow the t-distribution, which has thicker tails to account for the extra uncertainty in smaller samples.\n",
        "\n",
        "When to Use Each\n",
        "Z-Score: Use when you have a large sample size and the population standard deviation is known.\n",
        "\n"
      ],
      "metadata": {
        "id": "B1A_i886H-Rt"
      }
    },
    {
      "cell_type": "code",
      "source": [],
      "metadata": {
        "id": "IG2mrQr9H9Qa"
      },
      "execution_count": null,
      "outputs": []
    },
    {
      "cell_type": "markdown",
      "source": [
        "Question9: Given a sample mean of 105, a population mean of 100, a standard deviation of 15, and a sample\n",
        "size of 25, calculate the z-score and p-value. Based on a significance level of 0.05, do you reject or fail to\n",
        "reject the null hypothesis?\n",
        "\n",
        " Task: Write Python code to calculate the z-score and p-value for the given data.\n",
        "\n",
        "Objective: Apply the formula for the z-score and interpret the p-value for hypothesis testing"
      ],
      "metadata": {
        "id": "ngpdO6MpI4rA"
      }
    },
    {
      "cell_type": "code",
      "source": [
        "import scipy.stats as stats\n",
        "\n",
        "# Given data\n",
        "sample_mean = 105\n",
        "population_mean = 100\n",
        "std_deviation = 15\n",
        "sample_size = 25\n",
        "\n",
        "# Calculate z-score\n",
        "z_score = (sample_mean - population_mean) / (std_deviation / (sample_size ** 0.5))\n",
        "print(f\"Z-Score: {z_score}\")\n",
        "\n",
        "# Calculate p-value\n",
        "p_value = stats.norm.sf(abs(z_score)) * 2  # two-tailed test\n",
        "print(f\"P-Value: {p_value}\")\n",
        "\n",
        "# Hypothesis testing at significance level alpha = 0.05\n",
        "alpha = 0.05\n",
        "if p_value < alpha:\n",
        "    print(\"Reject the null hypothesis\")\n",
        "else:\n",
        "    print(\"Fail to reject the null hypothesis\")"
      ],
      "metadata": {
        "colab": {
          "base_uri": "https://localhost:8080/"
        },
        "id": "53-yXzsjJGPl",
        "outputId": "ca3d5c98-fb6a-41fa-8eb9-027f50cb04a3"
      },
      "execution_count": 1,
      "outputs": [
        {
          "output_type": "stream",
          "name": "stdout",
          "text": [
            "Z-Score: 1.6666666666666667\n",
            "P-Value: 0.0955807045456294\n",
            "Fail to reject the null hypothesis\n"
          ]
        }
      ]
    },
    {
      "cell_type": "code",
      "source": [],
      "metadata": {
        "id": "0oQXbz9MJTBM"
      },
      "execution_count": null,
      "outputs": []
    },
    {
      "cell_type": "markdown",
      "source": [
        "Question10: Simulate a binomial distribution with 10 trials and a probability of success of 0.6 using Python.\n",
        "Generate 1,000 samples and plot the distribution. What is the expected mean and variance?\n",
        "\n",
        "Task: Use Python to generate the data, plot the distribution, and calculate the mean and variance.\n",
        "\n",
        "Objective: Understand the properties of a binomial distribution and verify them through simulation."
      ],
      "metadata": {
        "id": "2pm79HtSJfN2"
      }
    },
    {
      "cell_type": "code",
      "source": [
        "import numpy as np\n",
        "import matplotlib.pyplot as plt\n",
        "\n",
        "# Parameters\n",
        "n = 10\n",
        "p = 0.6\n",
        "samples = 1000\n",
        "\n",
        "# Generate binomial samples\n",
        "data = np.random.binomial(n, p, samples)\n",
        "\n",
        "# Calculate mean and variance\n",
        "mean = np.mean(data)\n",
        "variance = np.var(data)\n",
        "\n",
        "print(f\"Calculated Mean: {mean}\")\n",
        "print(f\"Calculated Variance: {variance}\")\n",
        "\n",
        "# Plot the distribution\n",
        "plt.hist(data, bins=np.arange(0, n+2)-0.5, edgecolor='black', density=True)\n",
        "plt.title('Binomial Distribution')\n",
        "plt.xlabel('Number of Successes')\n",
        "plt.ylabel('Frequency')\n",
        "plt.show()"
      ],
      "metadata": {
        "colab": {
          "base_uri": "https://localhost:8080/",
          "height": 507
        },
        "id": "9yUv33u_JgO-",
        "outputId": "b6dbcf0b-ed6b-474e-a75a-d48b57325c39"
      },
      "execution_count": 2,
      "outputs": [
        {
          "output_type": "stream",
          "name": "stdout",
          "text": [
            "Calculated Mean: 6.032\n",
            "Calculated Variance: 2.3469760000000006\n"
          ]
        },
        {
          "output_type": "display_data",
          "data": {
            "text/plain": [
              "<Figure size 640x480 with 1 Axes>"
            ],
            "image/png": "[encoded data removed]"
          },
          "metadata": {}
        }
      ]
    },
    {
      "cell_type": "code",
      "source": [],
      "metadata": {
        "id": "PeeATWxVJl3T"
      },
      "execution_count": null,
      "outputs": []
    }
  ]
}